{
 "cells": [
  {
   "cell_type": "markdown",
   "id": "2d6aabbd",
   "metadata": {},
   "source": [
    "# ✍️ 손글씨 문자 분류기\n",
    "이미지 데이터를 기반으로 CNN을 활용하여 손글씨 문자(A~C, 0~9 등)를 분류하는 딥러닝 모델입니다."
   ]
  },
  {
   "cell_type": "code",
   "execution_count": null,
   "id": "1556c474",
   "metadata": {},
   "outputs": [],
   "source": [
    "import os\n",
    "import numpy as np\n",
    "import matplotlib.pyplot as plt\n",
    "from sklearn.model_selection import train_test_split\n",
    "from tensorflow.keras.utils import to_categorical\n",
    "from tensorflow.keras.models import Sequential\n",
    "from tensorflow.keras.layers import Conv2D, MaxPooling2D, Flatten, Dense\n",
    "from tensorflow.keras.preprocessing.image import load_img, img_to_array\n",
    "\n",
    "# 데이터 로딩 함수\n",
    "def load_data_from_folder(data_dir, img_size=(28, 28)):\n",
    "    images = []\n",
    "    labels = []\n",
    "\n",
    "    class_names = sorted(os.listdir(data_dir))  # 예: ['A', 'B', '0', '1', ...]\n",
    "    label_dict = {name: i for i, name in enumerate(class_names)}  # {'A': 0, 'B': 1, ...}\n",
    "\n",
    "    for class_name in class_names:\n",
    "        class_path = os.path.join(data_dir, class_name)\n",
    "        for img_name in os.listdir(class_path):\n",
    "            img_path = os.path.join(class_path, img_name)\n",
    "            img = load_img(img_path, target_size=img_size, color_mode='grayscale')\n",
    "            img = img_to_array(img) / 255.0\n",
    "            images.append(img)\n",
    "            labels.append(label_dict[class_name])\n",
    "\n",
    "    return np.array(images), to_categorical(labels), label_dict"
   ]
  },
  {
   "cell_type": "code",
   "execution_count": null,
   "id": "041d1cad",
   "metadata": {},
   "outputs": [],
   "source": [
    "# ✅ 경로 설정\n",
    "data_path = './handwritten_sample_english/'\n",
    "X, y, label_dict = load_data_from_folder(data_path)\n",
    "\n",
    "# 훈련/테스트 분할\n",
    "X_train, X_test, y_train, y_test = train_test_split(X, y, test_size=0.2, random_state=42)\n",
    "\n",
    "print(\"훈련 이미지 수:\", X_train.shape[0])\n",
    "print(\"테스트 이미지 수:\", X_test.shape[0])\n",
    "print(\"클래스 수:\", len(label_dict))"
   ]
  },
  {
   "cell_type": "code",
   "execution_count": null,
   "id": "64e51211",
   "metadata": {},
   "outputs": [],
   "source": [
    "# CNN 모델 정의\n",
    "model = Sequential([\n",
    "    Conv2D(32, (3, 3), activation='relu', input_shape=(28, 28, 1)),\n",
    "    MaxPooling2D(2, 2),\n",
    "    Conv2D(64, (3, 3), activation='relu'),\n",
    "    MaxPooling2D(2, 2),\n",
    "    Flatten(),\n",
    "    Dense(128, activation='relu'),\n",
    "    Dense(len(label_dict), activation='softmax')\n",
    "])\n",
    "\n",
    "# 컴파일 및 학습\n",
    "model.compile(optimizer='adam', loss='categorical_crossentropy', metrics=['accuracy'])\n",
    "model.summary()\n",
    "history = model.fit(X_train, y_train, epochs=10, batch_size=64, validation_split=0.1)"
   ]
  },
  {
   "cell_type": "code",
   "execution_count": null,
   "id": "d9c2ae91",
   "metadata": {},
   "outputs": [],
   "source": [
    "# 평가\n",
    "test_loss, test_acc = model.evaluate(X_test, y_test)\n",
    "print(\"테스트 정확도: \", test_acc)\n",
    "\n",
    "# 예측 및 시각화\n",
    "pred = model.predict(X_test)\n",
    "\n",
    "n = 10\n",
    "plt.figure(figsize=(15, 3))\n",
    "for i in range(n):\n",
    "    plt.subplot(1, n, i + 1)\n",
    "    plt.imshow(X_test[i].reshape(28, 28), cmap='gray')\n",
    "    true_label = list(label_dict.keys())[np.argmax(y_test[i])]\n",
    "    pred_label = list(label_dict.keys())[np.argmax(pred[i])]\n",
    "    plt.title(f\"T:{true_label}\\nP:{pred_label}\")\n",
    "    plt.axis('off')\n",
    "plt.tight_layout()\n",
    "plt.show()"
   ]
  }
 ],
 "metadata": {},
 "nbformat": 4,
 "nbformat_minor": 5
}
