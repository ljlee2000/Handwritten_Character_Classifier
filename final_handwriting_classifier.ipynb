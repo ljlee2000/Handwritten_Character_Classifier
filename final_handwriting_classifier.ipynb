구성 추천 (Markdown + 코드)
✅ 1. 📌 프로젝트 개요 (Markdown)
markdown
복사
편집
## 프로젝트 개요
- 숫자(0~9)와 한글 자모(ㄱ~ㅎ)를 분류하는 OCR 딥러닝 모델
- CNN 기반으로 구축, 다양한 성능 개선 실험 포함
✅ 2. 📂 데이터 구성 (Markdown + 코드)
markdown
복사
편집
## 데이터 설명
- 총 클래스 수: 24개
- 이미지 크기: 28x28 grayscale
python
복사
편집
# 데이터 불러오기 및 전처리 코드
✅ 3. 🧠 모델 실험 (기본 vs 향상 비교)
markdown
복사
편집
## 모델 구성 및 비교
- baseline_cnn: 단순 CNN
- model_optimized: Dropout, BN, Augmentation 포함
python
복사
편집
# 기본 모델 학습 결과
# 향상 모델 학습 결과 (불러오기 또는 학습)
✅ 4. 📈 학습 곡선 시각화
python
복사
편집
# accuracy, loss 시각화
import matplotlib.pyplot as plt

plt.plot(history.history['accuracy'], label='Train Acc')
plt.plot(history.history['val_accuracy'], label='Val Acc')
plt.legend()
plt.title("Accuracy History")
plt.grid()
plt.show()
✅ 5. 📊 결과 요약 (Markdown + 테이블)
markdown
복사
편집
## 실험 결과 요약

| 모델명 | 설명 | 정확도 |
|--------|------|--------|
| baseline | 단순 CNN | 92.5% |
| optimized | 증강 + BN + Dropout 포함 | **96.3%** |
✅ 6. 🖼️ 예측 시각화
